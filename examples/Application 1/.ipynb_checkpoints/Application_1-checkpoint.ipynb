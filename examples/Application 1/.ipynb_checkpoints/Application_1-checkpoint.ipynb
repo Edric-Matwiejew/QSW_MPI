{
 "cells": [
  {
   "cell_type": "code",
   "execution_count": 107,
   "metadata": {},
   "outputs": [],
   "source": [
    "import pandas as pd\n",
    "import numpy as np\n",
    "import matplotlib.pyplot as plt\n",
    "import networkx as nx\n",
    "from scipy.io import mmread\n",
    "from scipy import sparse as sp"
   ]
  },
  {
   "cell_type": "code",
   "execution_count": 108,
   "metadata": {},
   "outputs": [],
   "source": [
    "results_df = pd.read_csv('Application_1_All_Results.csv')"
   ]
  },
  {
   "cell_type": "code",
   "execution_count": 109,
   "metadata": {},
   "outputs": [
    {
     "data": {
      "text/html": [
       "<div>\n",
       "<style scoped>\n",
       "    .dataframe tbody tr th:only-of-type {\n",
       "        vertical-align: middle;\n",
       "    }\n",
       "\n",
       "    .dataframe tbody tr th {\n",
       "        vertical-align: top;\n",
       "    }\n",
       "\n",
       "    .dataframe thead th {\n",
       "        text-align: right;\n",
       "    }\n",
       "</style>\n",
       "<table border=\"1\" class=\"dataframe\">\n",
       "  <thead>\n",
       "    <tr style=\"text-align: right;\">\n",
       "      <th></th>\n",
       "      <th>graph</th>\n",
       "      <th>ID</th>\n",
       "      <th>omega</th>\n",
       "      <th>integrated_populations</th>\n",
       "      <th>integrated_coherences</th>\n",
       "      <th>final_sink_pop</th>\n",
       "      <th>time</th>\n",
       "      <th>t2_population</th>\n",
       "    </tr>\n",
       "  </thead>\n",
       "  <tbody>\n",
       "    <tr>\n",
       "      <td>0</td>\n",
       "      <td>isomorphic_graphs/13.mtx</td>\n",
       "      <td>13</td>\n",
       "      <td>0.00</td>\n",
       "      <td>1006.250000</td>\n",
       "      <td>553.897782</td>\n",
       "      <td>0.5</td>\n",
       "      <td>1048.828125</td>\n",
       "      <td>1.0</td>\n",
       "    </tr>\n",
       "    <tr>\n",
       "      <td>1</td>\n",
       "      <td>isomorphic_graphs/13.mtx</td>\n",
       "      <td>13</td>\n",
       "      <td>0.01</td>\n",
       "      <td>33.655241</td>\n",
       "      <td>33.460656</td>\n",
       "      <td>1.0</td>\n",
       "      <td>1016.235352</td>\n",
       "      <td>1.0</td>\n",
       "    </tr>\n",
       "    <tr>\n",
       "      <td>2</td>\n",
       "      <td>isomorphic_graphs/13.mtx</td>\n",
       "      <td>13</td>\n",
       "      <td>0.02</td>\n",
       "      <td>23.587396</td>\n",
       "      <td>22.163494</td>\n",
       "      <td>1.0</td>\n",
       "      <td>596.069336</td>\n",
       "      <td>1.0</td>\n",
       "    </tr>\n",
       "    <tr>\n",
       "      <td>3</td>\n",
       "      <td>isomorphic_graphs/13.mtx</td>\n",
       "      <td>13</td>\n",
       "      <td>0.03</td>\n",
       "      <td>20.332641</td>\n",
       "      <td>17.416809</td>\n",
       "      <td>1.0</td>\n",
       "      <td>469.726562</td>\n",
       "      <td>1.0</td>\n",
       "    </tr>\n",
       "    <tr>\n",
       "      <td>4</td>\n",
       "      <td>isomorphic_graphs/13.mtx</td>\n",
       "      <td>13</td>\n",
       "      <td>0.04</td>\n",
       "      <td>18.799537</td>\n",
       "      <td>14.617746</td>\n",
       "      <td>1.0</td>\n",
       "      <td>413.452148</td>\n",
       "      <td>1.0</td>\n",
       "    </tr>\n",
       "  </tbody>\n",
       "</table>\n",
       "</div>"
      ],
      "text/plain": [
       "                      graph  ID  omega  integrated_populations  \\\n",
       "0  isomorphic_graphs/13.mtx  13   0.00             1006.250000   \n",
       "1  isomorphic_graphs/13.mtx  13   0.01               33.655241   \n",
       "2  isomorphic_graphs/13.mtx  13   0.02               23.587396   \n",
       "3  isomorphic_graphs/13.mtx  13   0.03               20.332641   \n",
       "4  isomorphic_graphs/13.mtx  13   0.04               18.799537   \n",
       "\n",
       "   integrated_coherences  final_sink_pop         time  t2_population   \n",
       "0             553.897782             0.5  1048.828125             1.0  \n",
       "1              33.460656             1.0  1016.235352             1.0  \n",
       "2              22.163494             1.0   596.069336             1.0  \n",
       "3              17.416809             1.0   469.726562             1.0  \n",
       "4              14.617746             1.0   413.452148             1.0  "
      ]
     },
     "execution_count": 109,
     "metadata": {},
     "output_type": "execute_result"
    }
   ],
   "source": [
    "results_df.head()"
   ]
  },
  {
   "cell_type": "markdown",
   "metadata": {},
   "source": [
    "The aim here is to first establish that there is a relationship between topology and transport efficiency. Here I will examine which graph type has the fastest ETE at each omega."
   ]
  },
  {
   "cell_type": "code",
   "execution_count": 201,
   "metadata": {},
   "outputs": [
    {
     "name": "stdout",
     "output_type": "stream",
     "text": [
      "[0.01 0.02 0.03 0.04 0.05 0.06 0.07 0.08 0.09 0.1  0.11 0.12 0.13 0.14\n",
      " 0.15 0.16 0.17 0.18 0.19 0.2  0.21 0.22 0.23 0.24 0.25 0.26 0.27 0.28\n",
      " 0.29 0.3  0.31 0.32 0.33 0.34 0.35 0.36 0.37 0.38 0.39 0.4  0.41 0.42\n",
      " 0.43 0.44 0.45 0.46 0.47 0.48 0.49 0.5  0.51 0.52 0.53 0.54 0.55 0.56\n",
      " 0.57 0.58 0.59 0.6  0.61 0.62 0.63 0.64 0.65 0.66 0.67 0.68 0.69 0.7\n",
      " 0.71 0.72 0.73 0.74 0.75 0.76 0.77 0.78 0.79 0.8  0.81 0.82 0.83 0.84\n",
      " 0.85 0.86 0.87 0.88 0.89 0.9  0.91 0.92 0.93 0.94 0.95 0.96 0.97 0.98\n",
      " 0.99 1.  ]\n",
      "0.01 [12]\n",
      "0.02 [12]\n",
      "0.03 [12]\n",
      "0.04 [12]\n",
      "0.05 [12]\n",
      "0.060000000000000005 [12]\n",
      "0.06999999999999999 [12]\n",
      "0.08 [12]\n",
      "0.09 [12]\n",
      "0.09999999999999999 [12]\n",
      "0.11 [5 5]\n",
      "0.12 [5 4]\n",
      "0.13 [5]\n",
      "0.14 [5 5]\n",
      "0.15000000000000002 [5]\n",
      "0.16 [5]\n",
      "0.17 [5]\n",
      "0.18000000000000002 [5]\n",
      "0.19 [5]\n",
      "0.2 [5]\n",
      "0.21000000000000002 [5]\n",
      "0.22 [5 5]\n",
      "0.23 [5]\n",
      "0.24000000000000002 [5]\n",
      "0.25 [ 5 18]\n",
      "0.26 [ 5 18]\n",
      "0.27 [5 5]\n",
      "0.28 [5 4]\n",
      "0.29000000000000004 [14  5]\n",
      "0.3 [5]\n",
      "0.31 [5]\n",
      "0.32 [5 5]\n",
      "0.33 [ 5 18]\n",
      "0.34 [5 5]\n",
      "0.35000000000000003 [14  5]\n",
      "0.36000000000000004 [5]\n",
      "0.37 [5]\n",
      "0.38 [5]\n",
      "0.39 [5]\n",
      "0.4 [5]\n",
      "0.41000000000000003 [5]\n",
      "0.42000000000000004 [5 5 4]\n",
      "0.43 [ 5  5 16]\n",
      "0.44 [5 5 5 5]\n",
      "0.45 [5 5 5 5]\n",
      "0.46 [5 5 5 5]\n",
      "0.47000000000000003 [5 5 5 5]\n",
      "0.48000000000000004 [ 5  5 16]\n",
      "0.49 [5 5 4]\n",
      "0.5 [5]\n",
      "0.51 [14  5  5 18]\n",
      "0.52 [5 2]\n",
      "0.53 [ 5 16]\n",
      "0.54 [5 2]\n",
      "0.55 [ 5 12]\n",
      "0.56 [5 4]\n",
      "0.5700000000000001 [ 5 18]\n",
      "0.5800000000000001 [5 5]\n",
      "0.59 [5]\n",
      "0.6 [5 5]\n",
      "0.61 [ 5 18]\n",
      "0.62 [5]\n",
      "0.63 [5]\n",
      "0.64 [5]\n",
      "0.65 [5]\n",
      "0.66 [5 5]\n",
      "0.67 [5]\n",
      "0.68 [5]\n",
      "0.6900000000000001 [ 5  4 12]\n",
      "0.7000000000000001 [5]\n",
      "0.7100000000000001 [ 5 18]\n",
      "0.72 [5 5]\n",
      "0.73 [5]\n",
      "0.74 [5 5]\n",
      "0.75 [5 4]\n",
      "0.76 [5]\n",
      "0.77 [5]\n",
      "0.78 [5 5]\n",
      "0.79 [5]\n",
      "0.8 [5]\n",
      "0.81 [5]\n",
      "0.8200000000000001 [5]\n",
      "0.8300000000000001 [5]\n",
      "0.8400000000000001 [5]\n",
      "0.85 [5]\n",
      "0.86 [5]\n",
      "0.87 [5]\n",
      "0.88 [5]\n",
      "0.89 [5]\n",
      "0.9 [5]\n",
      "0.91 [5]\n",
      "0.92 [5]\n",
      "0.93 [5]\n",
      "0.9400000000000001 [5]\n",
      "0.9500000000000001 [5]\n",
      "0.9600000000000001 [5]\n",
      "0.97 [5]\n",
      "0.98 [5]\n",
      "0.99 [5]\n",
      "1.0 [5]\n",
      "[array([12]), array([12]), array([12]), array([12]), array([12]), array([12]), array([12]), array([12]), array([12]), array([12]), array([5, 5]), array([5, 4]), array([5]), array([5, 5]), array([5]), array([5]), array([5]), array([5]), array([5]), array([5]), array([5]), array([5, 5]), array([5]), array([5]), array([ 5, 18]), array([ 5, 18]), array([5, 5]), array([5, 4]), array([14,  5]), array([5]), array([5]), array([5, 5]), array([ 5, 18]), array([5, 5]), array([14,  5]), array([5]), array([5]), array([5]), array([5]), array([5]), array([5]), array([5, 5, 4]), array([ 5,  5, 16]), array([5, 5, 5, 5]), array([5, 5, 5, 5]), array([5, 5, 5, 5]), array([5, 5, 5, 5]), array([ 5,  5, 16]), array([5, 5, 4]), array([5]), array([14,  5,  5, 18]), array([5, 2]), array([ 5, 16]), array([5, 2]), array([ 5, 12]), array([5, 4]), array([ 5, 18]), array([5, 5]), array([5]), array([5, 5]), array([ 5, 18]), array([5]), array([5]), array([5]), array([5]), array([5, 5]), array([5]), array([5]), array([ 5,  4, 12]), array([5]), array([ 5, 18]), array([5, 5]), array([5]), array([5, 5]), array([5, 4]), array([5]), array([5]), array([5, 5]), array([5]), array([5]), array([5]), array([5]), array([5]), array([5]), array([5]), array([5]), array([5]), array([5]), array([5]), array([5]), array([5]), array([5]), array([5]), array([5]), array([5]), array([5]), array([5]), array([5]), array([5]), array([5])]\n"
     ]
    }
   ],
   "source": [
    "omegas = np.arange(0.01, 1.01, 0.01)\n",
    "print(omegas)\n",
    "graphs = []\n",
    "for omega in omegas:\n",
    "    samples = results_df.loc[results_df['omega']==round(omega,2)]\n",
    "    min_time = np.min(samples['time'].values)\n",
    "    graphs.append(results_df.loc[results_df['time']==min_time]['ID'].values)\n",
    "    print(omega, results_df.loc[results_df['time']==min_time]['ID'].values)\n",
    "print(graphs)"
   ]
  },
  {
   "cell_type": "code",
   "execution_count": 190,
   "metadata": {},
   "outputs": [],
   "source": [
    "min_time = np.min(results_df.loc[results_df['omega']==0.3]['time'])\n",
    "graphs.append(results_df.loc[results_df['time']==min_time]['ID'].values)\n"
   ]
  },
  {
   "cell_type": "code",
   "execution_count": 198,
   "metadata": {},
   "outputs": [
    {
     "data": {
      "text/plain": [
       "50      433.105469\n",
       "151     331.909180\n",
       "252     313.476562\n",
       "353     487.426758\n",
       "454     388.061523\n",
       "555     579.101562\n",
       "656     273.315430\n",
       "757     297.973633\n",
       "858     349.731445\n",
       "959     340.698242\n",
       "1060    521.850586\n",
       "1161    535.644531\n",
       "1262    339.111328\n",
       "1363    572.875977\n",
       "1464    529.052734\n",
       "1565    307.983398\n",
       "1666    317.504883\n",
       "1767    323.364258\n",
       "1868    352.172852\n",
       "1969    326.049805\n",
       "2070    476.440430\n",
       "2171    473.266602\n",
       "2272    468.139648\n",
       "2373    496.826172\n",
       "2474    466.430664\n",
       "2575    458.984375\n",
       "2676    417.236328\n",
       "2777    460.937500\n",
       "2878    452.270508\n",
       "2979    392.089844\n",
       "3080    335.083008\n",
       "3181    370.483398\n",
       "Name: time, dtype: float64"
      ]
     },
     "execution_count": 198,
     "metadata": {},
     "output_type": "execute_result"
    }
   ],
   "source": [
    "results_df.loc[results_df['omega']==0.5]['time']"
   ]
  },
  {
   "cell_type": "raw",
   "metadata": {},
   "source": []
  },
  {
   "cell_type": "code",
   "execution_count": 118,
   "metadata": {},
   "outputs": [
    {
     "name": "stderr",
     "output_type": "stream",
     "text": [
      "/home/edric/.local/lib/python3.6/site-packages/networkx/drawing/nx_pylab.py:579: MatplotlibDeprecationWarning: \n",
      "The iterable function was deprecated in Matplotlib 3.1 and will be removed in 3.3. Use np.iterable instead.\n",
      "  if not cb.iterable(width):\n"
     ]
    },
    {
     "data": {
      "image/png": "[encoded data removed]",
      "text/plain": [
       "<Figure size 432x288 with 1 Axes>"
      ]
     },
     "metadata": {},
     "output_type": "display_data"
    }
   ],
   "source": [
    "graph_min = nx.from_scipy_sparse_matrix(sp.csr_matrix(mmread(min_02['graph'].values[0])))\n",
    "nx.draw(graph_min, with_labels = True)"
   ]
  },
  {
   "cell_type": "code",
   "execution_count": 119,
   "metadata": {},
   "outputs": [
    {
     "name": "stderr",
     "output_type": "stream",
     "text": [
      "/home/edric/.local/lib/python3.6/site-packages/networkx/drawing/nx_pylab.py:579: MatplotlibDeprecationWarning: \n",
      "The iterable function was deprecated in Matplotlib 3.1 and will be removed in 3.3. Use np.iterable instead.\n",
      "  if not cb.iterable(width):\n"
     ]
    },
    {
     "data": {
      "image/png": "[encoded data removed]",
      "text/plain": [
       "<Figure size 432x288 with 1 Axes>"
      ]
     },
     "metadata": {},
     "output_type": "display_data"
    }
   ],
   "source": [
    "graph_max = nx.from_scipy_sparse_matrix(sp.csr_matrix(mmread(max_02['graph'].values[0])))\n",
    "nx.draw(graph_max)"
   ]
  },
  {
   "cell_type": "code",
   "execution_count": 124,
   "metadata": {},
   "outputs": [
    {
     "data": {
      "text/plain": [
       "[<matplotlib.lines.Line2D at 0x7fc6d7326588>]"
      ]
     },
     "execution_count": 124,
     "metadata": {},
     "output_type": "execute_result"
    },
    {
     "data": {
      "image/png": "[encoded data removed]",
      "text/plain": [
       "<Figure size 720x720 with 1 Axes>"
      ]
     },
     "metadata": {},
     "output_type": "display_data"
    }
   ],
   "source": [
    "fig = plt.figure(figsize=(10,10))\n",
    "ax = fig.add_subplot(111)\n",
    "ax.plot(omega_01['ID'],omega_01['time'],'*r')\n",
    "ax.plot(omega_02['ID'],omega_02['time'],'*b')"
   ]
  },
  {
   "cell_type": "code",
   "execution_count": null,
   "metadata": {},
   "outputs": [],
   "source": []
  }
 ],
 "metadata": {
  "kernelspec": {
   "display_name": "Python 3",
   "language": "python",
   "name": "python3"
  },
  "language_info": {
   "codemirror_mode": {
    "name": "ipython",
    "version": 3
   },
   "file_extension": ".py",
   "mimetype": "text/x-python",
   "name": "python",
   "nbconvert_exporter": "python",
   "pygments_lexer": "ipython3",
   "version": "3.6.8"
  }
 },
 "nbformat": 4,
 "nbformat_minor": 2
}
